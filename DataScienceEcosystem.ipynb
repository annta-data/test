{
 "cells": [
  {
   "cell_type": "markdown",
   "id": "b80c97a3-bea8-48eb-bd30-846aa84451a0",
   "metadata": {},
   "source": [
    "# Data Science Tools and Ecosystem"
   ]
  },
  {
   "cell_type": "markdown",
   "id": "f1da48c8-a7b5-4878-841b-db36081dd2a1",
   "metadata": {},
   "source": [
    "## In this notebook, Data Science Tools and Ecosystem are summarized.\n",
    "\n",
    "**Objectives:**\n",
    "* practice using markdown in Jupyter\n",
    "* get familar with Jupyter Notebook\n",
    "* list popular languages for Data Science."
   ]
  },
  {
   "cell_type": "markdown",
   "id": "2afde996-a68f-4a21-b2d3-c2ba808e62f6",
   "metadata": {},
   "source": [
    "Some of the popular languages that Data Scientists use are:\n",
    "- Python\n",
    "- R\n",
    "- Julia"
   ]
  },
  {
   "cell_type": "markdown",
   "id": "425a8863-34d1-41f9-971c-5d072a8f3579",
   "metadata": {},
   "source": [
    "Some of the commonly used libraries used by Data Scientists include:\n",
    "1. Numpy\n",
    "2. Panda\n",
    "3. Matplotlib"
   ]
  },
  {
   "cell_type": "markdown",
   "id": "64372938-8dc3-468a-9746-561ce0cc0b81",
   "metadata": {},
   "source": [
    "|Data Science Tools |\n",
    "|----------|\n",
    "|MySQL |\n",
    "|Hadoop |\n",
    "|Jupyter |"
   ]
  },
  {
   "cell_type": "markdown",
   "id": "83affc97-36c8-48d4-8b8f-88ec16a39cac",
   "metadata": {},
   "source": [
    "### Below are a few examples of evaluating arithmetic expressions in Python"
   ]
  },
  {
   "cell_type": "code",
   "execution_count": 7,
   "id": "832b5afa-7493-439b-845d-9b1aa8a191df",
   "metadata": {},
   "outputs": [
    {
     "data": {
      "text/plain": [
       "17"
      ]
     },
     "execution_count": 7,
     "metadata": {},
     "output_type": "execute_result"
    }
   ],
   "source": [
    " (3*4)+5"
   ]
  },
  {
   "cell_type": "markdown",
   "id": "39c4d7f4-cb40-4b92-9964-6ed4d94ef3c2",
   "metadata": {},
   "source": [
    "### This will convert 200 minutes to hours by diving by 60"
   ]
  },
  {
   "cell_type": "code",
   "execution_count": 10,
   "id": "5db0fe96-7f0a-47c5-90a2-92d31ff3595a",
   "metadata": {},
   "outputs": [
    {
     "data": {
      "text/plain": [
       "3.3333333333333335"
      ]
     },
     "execution_count": 10,
     "metadata": {},
     "output_type": "execute_result"
    }
   ],
   "source": [
    "200/60"
   ]
  },
  {
   "cell_type": "markdown",
   "id": "e465ac97-31c2-458d-b1de-38a845684283",
   "metadata": {},
   "source": [
    "## Author\n",
    "Nha T."
   ]
  },
  {
   "cell_type": "code",
   "execution_count": null,
   "id": "6794a593-f917-41a7-8cf6-363c6f694d36",
   "metadata": {},
   "outputs": [],
   "source": []
  }
 ],
 "metadata": {
  "kernelspec": {
   "display_name": "Python [conda env:base] *",
   "language": "python",
   "name": "conda-base-py"
  },
  "language_info": {
   "codemirror_mode": {
    "name": "ipython",
    "version": 3
   },
   "file_extension": ".py",
   "mimetype": "text/x-python",
   "name": "python",
   "nbconvert_exporter": "python",
   "pygments_lexer": "ipython3",
   "version": "3.12.7"
  }
 },
 "nbformat": 4,
 "nbformat_minor": 5
}
